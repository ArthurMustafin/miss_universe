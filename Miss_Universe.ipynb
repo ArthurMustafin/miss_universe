{
 "cells": [
  {
   "cell_type": "code",
   "execution_count": 4,
   "metadata": {},
   "outputs": [],
   "source": [
    "import requests\n",
    "from bs4 import BeautifulSoup\n",
    "import csv\n",
    "\n",
    "url = \"https://en.wikipedia.org/wiki/List_of_Miss_Universe_titleholders\"\n",
    "\n",
    "response = requests.get(url)\n",
    "soup = BeautifulSoup(response.content, 'html.parser')\n",
    "\n",
    "# Find the table with the Miss Universe titleholders\n",
    "table = soup.find_all('table', class_='wikitable')[0]\n",
    "\n",
    "# Extract table headers\n",
    "headers = [header.text.strip() for header in table.find_all('th')]\n",
    "\n",
    "# Extract table rows\n",
    "rows = table.find_all('tr')[1:]  # Exclude the header row\n",
    "\n",
    "# Extract data from each row\n",
    "data = []\n",
    "for row in rows:\n",
    "    cells = row.find_all('td')\n",
    "    row_data = [cell.text.strip() for cell in cells]\n",
    "\n",
    "    # Extract the page URL from the titleholder's name\n",
    "    name_cell = cells[2]  # The titleholder's name is in the 3rd column (0-based index)\n",
    "    if name_cell and name_cell.find('a'):\n",
    "        page_url = name_cell.find('a')['href']\n",
    "    else:\n",
    "        page_url = \"\"\n",
    "\n",
    "    row_data.append(page_url)\n",
    "    data.append(row_data)\n",
    "\n",
    "# Save the data to a CSV file\n",
    "with open('miss_universe_titleholders.csv', mode='w', newline='', encoding='utf-8') as file:\n",
    "    writer = csv.writer(file)\n",
    "    writer.writerow(headers + ['Page URL'])\n",
    "    writer.writerows(data)\n"
   ]
  },
  {
   "cell_type": "code",
   "execution_count": null,
   "metadata": {},
   "outputs": [],
   "source": []
  }
 ],
 "metadata": {
  "kernelspec": {
   "display_name": "Python 3",
   "language": "python",
   "name": "python3"
  },
  "language_info": {
   "codemirror_mode": {
    "name": "ipython",
    "version": 3
   },
   "file_extension": ".py",
   "mimetype": "text/x-python",
   "name": "python",
   "nbconvert_exporter": "python",
   "pygments_lexer": "ipython3",
   "version": "3.8.5"
  }
 },
 "nbformat": 4,
 "nbformat_minor": 4
}
